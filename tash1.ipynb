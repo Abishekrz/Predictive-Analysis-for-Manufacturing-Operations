{
 "cells": [
  {
   "cell_type": "code",
   "execution_count": 6,
   "metadata": {},
   "outputs": [
    {
     "name": "stdout",
     "output_type": "stream",
     "text": [
      " * Serving Flask app '__main__'\n",
      " * Debug mode: on\n"
     ]
    },
    {
     "name": "stderr",
     "output_type": "stream",
     "text": [
      "WARNING: This is a development server. Do not use it in a production deployment. Use a production WSGI server instead.\n",
      " * Running on http://127.0.0.1:5000\n",
      "Press CTRL+C to quit\n",
      " * Restarting with stat\n"
     ]
    },
    {
     "ename": "SystemExit",
     "evalue": "1",
     "output_type": "error",
     "traceback": [
      "An exception has occurred, use %tb to see the full traceback.\n",
      "\u001b[1;31mSystemExit\u001b[0m\u001b[1;31m:\u001b[0m 1\n"
     ]
    },
    {
     "name": "stderr",
     "output_type": "stream",
     "text": [
      "C:\\Users\\ABISHEKRS\\AppData\\Roaming\\Python\\Python312\\site-packages\\IPython\\core\\interactiveshell.py:3585: UserWarning: To exit: use 'exit', 'quit', or Ctrl-D.\n",
      "  warn(\"To exit: use 'exit', 'quit', or Ctrl-D.\", stacklevel=1)\n"
     ]
    }
   ],
   "source": [
    "from flask import Flask, request, jsonify\n",
    "import pandas as pd\n",
    "from sklearn.ensemble import RandomForestClassifier\n",
    "from sklearn.model_selection import train_test_split\n",
    "from sklearn.metrics import accuracy_score\n",
    "\n",
    "app = Flask(__name__)\n",
    "\n",
    "# Dummy data (could be replaced with file upload logic)\n",
    "data = [\n",
    "    {\"Machine_ID\": 1, \"Temperature\": 80, \"Run_Time\": 120, \"Downtime_Flag\": 0},\n",
    "    {\"Machine_ID\": 2, \"Temperature\": 90, \"Run_Time\": 180, \"Downtime_Flag\": 1},\n",
    "    {\"Machine_ID\": 3, \"Temperature\": 75, \"Run_Time\": 150, \"Downtime_Flag\": 0},\n",
    "    {\"Machine_ID\": 4, \"Temperature\": 85, \"Run_Time\": 200, \"Downtime_Flag\": 1},\n",
    "    {\"Machine_ID\": 5, \"Temperature\": 70, \"Run_Time\": 100, \"Downtime_Flag\": 0}\n",
    "]\n",
    "df = pd.DataFrame(data)\n",
    "\n",
    "# Basic model for prediction\n",
    "X = df[[\"Temperature\", \"Run_Time\"]]\n",
    "y = df[\"Downtime_Flag\"]\n",
    "model = RandomForestClassifier()\n",
    "\n",
    "@app.route('/train', methods=['POST'])\n",
    "def train_model():\n",
    "    X_train, X_test, y_train, y_test = train_test_split(X, y, test_size=0.2)\n",
    "    model.fit(X_train, y_train)\n",
    "    y_pred = model.predict(X_test)\n",
    "    accuracy = accuracy_score(y_test, y_pred)\n",
    "    return jsonify({\"accuracy\": accuracy})\n",
    "\n",
    "@app.route('/predict', methods=['POST'])\n",
    "def predict():\n",
    "    data = request.get_json()\n",
    "    prediction = model.predict([[data[\"Temperature\"], data[\"Run_Time\"]]])\n",
    "    return jsonify({\"Downtime\": \"Yes\" if prediction[0] == 1 else \"No\"})\n",
    "\n",
    "if __name__ == '__main__':\n",
    "    app.run(debug=True)\n"
   ]
  },
  {
   "cell_type": "markdown",
   "metadata": {},
   "source": [
    "Model Creation\n",
    "We'll use Logistic Regression to predict the downtime (binary classification: 0 = No downtime, 1 = Downtime)."
   ]
  },
  {
   "cell_type": "code",
   "execution_count": 7,
   "metadata": {},
   "outputs": [
    {
     "name": "stdout",
     "output_type": "stream",
     "text": [
      "Training Response: {'accuracy': 0.0}\n",
      "Prediction Response: {'Downtime': 'No'}\n"
     ]
    }
   ],
   "source": [
    "import requests\n",
    "\n",
    "# Test training endpoint\n",
    "response_train = requests.post(\"http://127.0.0.1:5000/train\")\n",
    "print(\"Training Response:\", response_train.json())\n",
    "\n",
    "# Test prediction endpoint\n",
    "data = {\"Temperature\": 85, \"Run_Time\": 200}\n",
    "response_predict = requests.post(\"http://127.0.0.1:5000/predict\", json=data)\n",
    "print(\"Prediction Response:\", response_predict.json())\n"
   ]
  }
 ],
 "metadata": {
  "kernelspec": {
   "display_name": "Python 3",
   "language": "python",
   "name": "python3"
  },
  "language_info": {
   "codemirror_mode": {
    "name": "ipython",
    "version": 3
   },
   "file_extension": ".py",
   "mimetype": "text/x-python",
   "name": "python",
   "nbconvert_exporter": "python",
   "pygments_lexer": "ipython3",
   "version": "3.12.4"
  }
 },
 "nbformat": 4,
 "nbformat_minor": 2
}
